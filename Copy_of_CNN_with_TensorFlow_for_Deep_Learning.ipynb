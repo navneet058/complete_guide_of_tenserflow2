{
  "nbformat": 4,
  "nbformat_minor": 0,
  "metadata": {
    "kernelspec": {
      "name": "python3",
      "display_name": "Python 3",
      "language": "python"
    },
    "language_info": {
      "name": "python",
      "version": "3.7.9",
      "mimetype": "text/x-python",
      "codemirror_mode": {
        "name": "ipython",
        "version": 3
      },
      "pygments_lexer": "ipython3",
      "nbconvert_exporter": "python",
      "file_extension": ".py"
    },
    "colab": {
      "name": "Copy of CNN with TensorFlow for Deep Learning.ipynb",
      "provenance": [],
      "collapsed_sections": [],
      "include_colab_link": true
    },
    "accelerator": "GPU"
  },
  "cells": [
    {
      "cell_type": "markdown",
      "metadata": {
        "id": "view-in-github",
        "colab_type": "text"
      },
      "source": [
        "<a href=\"https://colab.research.google.com/github/navneet058/complete_guide_of_tenserflow2/blob/main/Copy_of_CNN_with_TensorFlow_for_Deep_Learning.ipynb\" target=\"_parent\"><img src=\"https://colab.research.google.com/assets/colab-badge.svg\" alt=\"Open In Colab\"/></a>"
      ]
    },
    {
      "cell_type": "code",
      "metadata": {
        "id": "PniS-Th7RKUr",
        "trusted": true
      },
      "source": [
        "import tensorflow as tf"
      ],
      "execution_count": 35,
      "outputs": []
    },
    {
      "cell_type": "code",
      "metadata": {
        "id": "X_mZIb85CCNo",
        "trusted": true,
        "colab": {
          "base_uri": "https://localhost:8080/"
        },
        "outputId": "cd3d22d9-79e8-4e42-f966-fee6ede93757"
      },
      "source": [
        "print(tf.__version__)"
      ],
      "execution_count": 36,
      "outputs": [
        {
          "output_type": "stream",
          "text": [
            "2.5.0\n"
          ],
          "name": "stdout"
        }
      ]
    },
    {
      "cell_type": "code",
      "metadata": {
        "id": "0FW5A0Ub9IHc",
        "trusted": false
      },
      "source": [
        "(X_train, y_train), (X_test, y_test) = tf.keras.datasets.cifar10.load_data()"
      ],
      "execution_count": 37,
      "outputs": []
    },
    {
      "cell_type": "code",
      "metadata": {
        "id": "MhJ1vPZXBT0i",
        "trusted": true
      },
      "source": [
        "import matplotlib.pyplot as plt"
      ],
      "execution_count": 38,
      "outputs": []
    },
    {
      "cell_type": "code",
      "metadata": {
        "id": "vnZsd9oC9Qgm",
        "trusted": true,
        "colab": {
          "base_uri": "https://localhost:8080/",
          "height": 266
        },
        "outputId": "9fa00ed8-5a05-49bd-c187-35c3aee9390d"
      },
      "source": [
        "\n",
        "image = X_train[785]\n",
        "plt.imshow(image)\n",
        "plt.show()"
      ],
      "execution_count": 39,
      "outputs": [
        {
          "output_type": "display_data",
          "data": {
            "image/png": "[encoded data removed]",
            "text/plain": [
              "<Figure size 432x288 with 1 Axes>"
            ]
          },
          "metadata": {
            "tags": [],
            "needs_background": "light"
          }
        }
      ]
    },
    {
      "cell_type": "code",
      "metadata": {
        "id": "xH2fZsufN0zv",
        "trusted": false,
        "colab": {
          "base_uri": "https://localhost:8080/"
        },
        "outputId": "2993debc-07c5-4aec-f04d-060768a13ccf"
      },
      "source": [
        "y_train[785]"
      ],
      "execution_count": 40,
      "outputs": [
        {
          "output_type": "execute_result",
          "data": {
            "text/plain": [
              "array([3], dtype=uint8)"
            ]
          },
          "metadata": {
            "tags": []
          },
          "execution_count": 40
        }
      ]
    },
    {
      "cell_type": "code",
      "metadata": {
        "id": "9IFMQcN19buH",
        "trusted": false
      },
      "source": [
        "X_train = X_train / 255\n",
        "X_test = X_test / 255"
      ],
      "execution_count": 41,
      "outputs": []
    },
    {
      "cell_type": "code",
      "metadata": {
        "id": "1QHHAnE599Hz",
        "trusted": false
      },
      "source": [
        "model = tf.keras.Sequential(\n",
        "    [\n",
        "    tf.keras.layers.Conv2D(32, (3,3), padding='same', activation=\"relu\",input_shape=(32, 32, 3)),\n",
        "    tf.keras.layers.MaxPooling2D((2, 2), strides=2),\n",
        "     \n",
        "    tf.keras.layers.Conv2D(64, (3,3), padding='same', activation=\"relu\"),\n",
        "    tf.keras.layers.MaxPooling2D((2, 2), strides=2),\n",
        "     \n",
        "    tf.keras.layers.Flatten(),\n",
        "    tf.keras.layers.Dense(100, activation=\"relu\"),\n",
        "    tf.keras.layers.Dropout(0.2), \n",
        "    tf.keras.layers.Dense(10, activation=\"softmax\")\n",
        "]\n",
        ")"
      ],
      "execution_count": 42,
      "outputs": []
    },
    {
      "cell_type": "code",
      "metadata": {
        "id": "NBbVMRrMABY3",
        "trusted": false
      },
      "source": [
        "model.compile(optimizer='adam',\n",
        "              loss=tf.keras.losses.SparseCategoricalCrossentropy(from_logits=True),\n",
        "              metrics=['accuracy'])"
      ],
      "execution_count": 43,
      "outputs": []
    },
    {
      "cell_type": "code",
      "metadata": {
        "id": "PhuU58zZBBrz",
        "trusted": false,
        "colab": {
          "base_uri": "https://localhost:8080/"
        },
        "outputId": "2e043763-4651-4ed8-fbb2-bf88a82d6b16"
      },
      "source": [
        "model.summary()"
      ],
      "execution_count": 44,
      "outputs": [
        {
          "output_type": "stream",
          "text": [
            "Model: \"sequential_2\"\n",
            "_________________________________________________________________\n",
            "Layer (type)                 Output Shape              Param #   \n",
            "=================================================================\n",
            "conv2d_4 (Conv2D)            (None, 32, 32, 32)        896       \n",
            "_________________________________________________________________\n",
            "max_pooling2d_4 (MaxPooling2 (None, 16, 16, 32)        0         \n",
            "_________________________________________________________________\n",
            "conv2d_5 (Conv2D)            (None, 16, 16, 64)        18496     \n",
            "_________________________________________________________________\n",
            "max_pooling2d_5 (MaxPooling2 (None, 8, 8, 64)          0         \n",
            "_________________________________________________________________\n",
            "flatten_2 (Flatten)          (None, 4096)              0         \n",
            "_________________________________________________________________\n",
            "dense_4 (Dense)              (None, 100)               409700    \n",
            "_________________________________________________________________\n",
            "dropout_1 (Dropout)          (None, 100)               0         \n",
            "_________________________________________________________________\n",
            "dense_5 (Dense)              (None, 10)                1010      \n",
            "=================================================================\n",
            "Total params: 430,102\n",
            "Trainable params: 430,102\n",
            "Non-trainable params: 0\n",
            "_________________________________________________________________\n"
          ],
          "name": "stdout"
        }
      ]
    },
    {
      "cell_type": "code",
      "metadata": {
        "id": "PVpolSWygcOc",
        "trusted": true,
        "colab": {
          "base_uri": "https://localhost:8080/",
          "height": 976
        },
        "outputId": "2da2cc32-b7e7-454f-dfe7-f6dc167d55da"
      },
      "source": [
        "tf.keras.utils.plot_model(\n",
        "    model,\n",
        "    to_file=\"model.png\",\n",
        "    show_shapes=True,\n",
        "    show_layer_names=True,\n",
        "    rankdir=\"TB\",\n",
        "    expand_nested=True,\n",
        "    dpi=96,\n",
        ")"
      ],
      "execution_count": 45,
      "outputs": [
        {
          "output_type": "execute_result",
          "data": {
            "image/png": "[encoded data removed]",
            "text/plain": [
              "<IPython.core.display.Image object>"
            ]
          },
          "metadata": {
            "tags": []
          },
          "execution_count": 45
        }
      ]
    },
    {
      "cell_type": "code",
      "metadata": {
        "id": "3J21RqpBpaVX",
        "trusted": true
      },
      "source": [
        "checkpoint_filepath = '/tmp/checkpoint'\n",
        "model_checkpoint_callback = tf.keras.callbacks.ModelCheckpoint(\n",
        "    filepath=checkpoint_filepath,\n",
        "    save_weights_only=False,\n",
        "    monitor='loss',\n",
        "    mode='min',\n",
        "    save_best_only=True)"
      ],
      "execution_count": 46,
      "outputs": []
    },
    {
      "cell_type": "code",
      "metadata": {
        "id": "bzbji6fZBLMX",
        "trusted": true
      },
      "source": [
        "from tensorflow.keras.callbacks import EarlyStopping"
      ],
      "execution_count": 47,
      "outputs": []
    },
    {
      "cell_type": "code",
      "metadata": {
        "id": "q7qX-BUXBW5G",
        "trusted": true
      },
      "source": [
        "callbacks = [\n",
        "             EarlyStopping(patience=10),\n",
        "             model_checkpoint_callback,\n",
        "\n",
        "]"
      ],
      "execution_count": 48,
      "outputs": []
    },
    {
      "cell_type": "code",
      "metadata": {
        "id": "RWTU6kbVAXob",
        "trusted": true,
        "colab": {
          "base_uri": "https://localhost:8080/"
        },
        "outputId": "7ea8a627-85be-4dd3-816c-805f8a33849a"
      },
      "source": [
        "history = model.fit(X_train,y_train, epochs=1,validation_data=(X_test,y_test),callbacks=callbacks)"
      ],
      "execution_count": 49,
      "outputs": [
        {
          "output_type": "stream",
          "text": [
            "/usr/local/lib/python3.7/dist-packages/tensorflow/python/keras/backend.py:4930: UserWarning: \"`sparse_categorical_crossentropy` received `from_logits=True`, but the `output` argument was produced by a sigmoid or softmax activation and thus does not represent logits. Was this intended?\"\n",
            "  '\"`sparse_categorical_crossentropy` received `from_logits=True`, but '\n"
          ],
          "name": "stderr"
        },
        {
          "output_type": "stream",
          "text": [
            "1563/1563 [==============================] - 12s 7ms/step - loss: 1.5596 - accuracy: 0.4353 - val_loss: 1.2314 - val_accuracy: 0.5661\n",
            "INFO:tensorflow:Assets written to: /tmp/checkpoint/assets\n"
          ],
          "name": "stdout"
        }
      ]
    },
    {
      "cell_type": "code",
      "metadata": {
        "id": "P8wmwNCBAnLh",
        "trusted": true,
        "colab": {
          "base_uri": "https://localhost:8080/"
        },
        "outputId": "d0e0dabd-8ca9-4c8e-a3a5-b7884ef3c408"
      },
      "source": [
        "loss, accuracy = model.evaluate(X_test,y_test)\n",
        "print('Accuracy on test dataset:', accuracy)"
      ],
      "execution_count": 50,
      "outputs": [
        {
          "output_type": "stream",
          "text": [
            "313/313 [==============================] - 1s 4ms/step - loss: 1.2314 - accuracy: 0.5661\n",
            "Accuracy on test dataset: 0.566100001335144\n"
          ],
          "name": "stdout"
        }
      ]
    },
    {
      "cell_type": "code",
      "metadata": {
        "id": "_2odJft1CiyG",
        "trusted": true
      },
      "source": [
        "predictions = model.predict(X_test)"
      ],
      "execution_count": 51,
      "outputs": []
    },
    {
      "cell_type": "code",
      "metadata": {
        "id": "Y_PqcpJgIpZu",
        "trusted": true
      },
      "source": [
        "import numpy as np\n"
      ],
      "execution_count": 52,
      "outputs": []
    },
    {
      "cell_type": "code",
      "metadata": {
        "trusted": true,
        "id": "TiTkuj6XkUL2",
        "colab": {
          "base_uri": "https://localhost:8080/"
        },
        "outputId": "64b4eb06-10e6-44cc-b73e-7543bd0bc025"
      },
      "source": [
        "np.argmax(model.predict(X_test[60].reshape(1,32,32,3)), axis=-1)"
      ],
      "execution_count": 53,
      "outputs": [
        {
          "output_type": "execute_result",
          "data": {
            "text/plain": [
              "array([7])"
            ]
          },
          "metadata": {
            "tags": []
          },
          "execution_count": 53
        }
      ]
    },
    {
      "cell_type": "code",
      "metadata": {
        "id": "xBUVh_zeJdZr",
        "trusted": true,
        "colab": {
          "base_uri": "https://localhost:8080/"
        },
        "outputId": "44c1d63e-7591-4be3-8087-2d3073515ab0"
      },
      "source": [
        "y_test[60]"
      ],
      "execution_count": 54,
      "outputs": [
        {
          "output_type": "execute_result",
          "data": {
            "text/plain": [
              "array([7], dtype=uint8)"
            ]
          },
          "metadata": {
            "tags": []
          },
          "execution_count": 54
        }
      ]
    },
    {
      "cell_type": "code",
      "metadata": {
        "id": "ynOnkxkuDORs",
        "trusted": true
      },
      "source": [
        "import pandas as pd\n",
        "\n",
        "metrics_df = pd.DataFrame(history.history)"
      ],
      "execution_count": 55,
      "outputs": []
    },
    {
      "cell_type": "code",
      "metadata": {
        "id": "3tC5dBmxIZPi",
        "trusted": false,
        "colab": {
          "base_uri": "https://localhost:8080/",
          "height": 80
        },
        "outputId": "675143f4-e6b6-469c-bafa-63e1938d486e"
      },
      "source": [
        "metrics_df"
      ],
      "execution_count": 56,
      "outputs": [
        {
          "output_type": "execute_result",
          "data": {
            "text/html": [
              "<div>\n",
              "<style scoped>\n",
              "    .dataframe tbody tr th:only-of-type {\n",
              "        vertical-align: middle;\n",
              "    }\n",
              "\n",
              "    .dataframe tbody tr th {\n",
              "        vertical-align: top;\n",
              "    }\n",
              "\n",
              "    .dataframe thead th {\n",
              "        text-align: right;\n",
              "    }\n",
              "</style>\n",
              "<table border=\"1\" class=\"dataframe\">\n",
              "  <thead>\n",
              "    <tr style=\"text-align: right;\">\n",
              "      <th></th>\n",
              "      <th>loss</th>\n",
              "      <th>accuracy</th>\n",
              "      <th>val_loss</th>\n",
              "      <th>val_accuracy</th>\n",
              "    </tr>\n",
              "  </thead>\n",
              "  <tbody>\n",
              "    <tr>\n",
              "      <th>0</th>\n",
              "      <td>1.559588</td>\n",
              "      <td>0.43534</td>\n",
              "      <td>1.231403</td>\n",
              "      <td>0.5661</td>\n",
              "    </tr>\n",
              "  </tbody>\n",
              "</table>\n",
              "</div>"
            ],
            "text/plain": [
              "       loss  accuracy  val_loss  val_accuracy\n",
              "0  1.559588   0.43534  1.231403        0.5661"
            ]
          },
          "metadata": {
            "tags": []
          },
          "execution_count": 56
        }
      ]
    },
    {
      "cell_type": "code",
      "metadata": {
        "id": "CxBV2ULlDfQl",
        "trusted": false,
        "colab": {
          "base_uri": "https://localhost:8080/",
          "height": 265
        },
        "outputId": "6aa5f065-b391-4406-cc62-2df519ee8777"
      },
      "source": [
        "metrics_df[[\"loss\",\"val_loss\"]].plot();"
      ],
      "execution_count": 57,
      "outputs": [
        {
          "output_type": "display_data",
          "data": {
            "image/png": "[encoded data removed]",
            "text/plain": [
              "<Figure size 432x288 with 1 Axes>"
            ]
          },
          "metadata": {
            "tags": [],
            "needs_background": "light"
          }
        }
      ]
    },
    {
      "cell_type": "code",
      "metadata": {
        "id": "tcGN11MBDi1r",
        "trusted": false,
        "colab": {
          "base_uri": "https://localhost:8080/",
          "height": 265
        },
        "outputId": "1c7aec30-e3ec-4a2a-9939-398d45f0fc40"
      },
      "source": [
        "metrics_df[[\"accuracy\",\"val_accuracy\"]].plot();"
      ],
      "execution_count": 58,
      "outputs": [
        {
          "output_type": "display_data",
          "data": {
            "image/png": "[encoded data removed]",
            "text/plain": [
              "<Figure size 432x288 with 1 Axes>"
            ]
          },
          "metadata": {
            "tags": [],
            "needs_background": "light"
          }
        }
      ]
    },
    {
      "cell_type": "code",
      "metadata": {
        "id": "UJbfUGhYQQSn",
        "trusted": false
      },
      "source": [
        "model.save(\"model.h5\")"
      ],
      "execution_count": 59,
      "outputs": []
    },
    {
      "cell_type": "code",
      "metadata": {
        "id": "oo7JcumBnD77",
        "trusted": false
      },
      "source": [
        "load_saved_model = tf.keras.models.load_model(\"model.h5\")"
      ],
      "execution_count": 60,
      "outputs": []
    },
    {
      "cell_type": "code",
      "metadata": {
        "id": "CH7JDRBZn8-o",
        "trusted": false,
        "colab": {
          "base_uri": "https://localhost:8080/"
        },
        "outputId": "a550c4f0-00f5-40c3-880f-50b640dde6d3"
      },
      "source": [
        "load_saved_model.summary()"
      ],
      "execution_count": 61,
      "outputs": [
        {
          "output_type": "stream",
          "text": [
            "Model: \"sequential_2\"\n",
            "_________________________________________________________________\n",
            "Layer (type)                 Output Shape              Param #   \n",
            "=================================================================\n",
            "conv2d_4 (Conv2D)            (None, 32, 32, 32)        896       \n",
            "_________________________________________________________________\n",
            "max_pooling2d_4 (MaxPooling2 (None, 16, 16, 32)        0         \n",
            "_________________________________________________________________\n",
            "conv2d_5 (Conv2D)            (None, 16, 16, 64)        18496     \n",
            "_________________________________________________________________\n",
            "max_pooling2d_5 (MaxPooling2 (None, 8, 8, 64)          0         \n",
            "_________________________________________________________________\n",
            "flatten_2 (Flatten)          (None, 4096)              0         \n",
            "_________________________________________________________________\n",
            "dense_4 (Dense)              (None, 100)               409700    \n",
            "_________________________________________________________________\n",
            "dropout_1 (Dropout)          (None, 100)               0         \n",
            "_________________________________________________________________\n",
            "dense_5 (Dense)              (None, 10)                1010      \n",
            "=================================================================\n",
            "Total params: 430,102\n",
            "Trainable params: 430,102\n",
            "Non-trainable params: 0\n",
            "_________________________________________________________________\n"
          ],
          "name": "stdout"
        }
      ]
    },
    {
      "cell_type": "code",
      "metadata": {
        "id": "LWyLNDbkoAsg",
        "trusted": false
      },
      "source": [
        "another_saved_model = tf.keras.models.load_model(checkpoint_filepath)"
      ],
      "execution_count": 62,
      "outputs": []
    },
    {
      "cell_type": "code",
      "metadata": {
        "id": "0sikbF5PqudY",
        "trusted": false,
        "colab": {
          "base_uri": "https://localhost:8080/"
        },
        "outputId": "3614817a-11f4-4525-f527-54cd97dab842"
      },
      "source": [
        "another_saved_model.summary()"
      ],
      "execution_count": 63,
      "outputs": [
        {
          "output_type": "stream",
          "text": [
            "Model: \"sequential_2\"\n",
            "_________________________________________________________________\n",
            "Layer (type)                 Output Shape              Param #   \n",
            "=================================================================\n",
            "conv2d_4 (Conv2D)            (None, 32, 32, 32)        896       \n",
            "_________________________________________________________________\n",
            "max_pooling2d_4 (MaxPooling2 (None, 16, 16, 32)        0         \n",
            "_________________________________________________________________\n",
            "conv2d_5 (Conv2D)            (None, 16, 16, 64)        18496     \n",
            "_________________________________________________________________\n",
            "max_pooling2d_5 (MaxPooling2 (None, 8, 8, 64)          0         \n",
            "_________________________________________________________________\n",
            "flatten_2 (Flatten)          (None, 4096)              0         \n",
            "_________________________________________________________________\n",
            "dense_4 (Dense)              (None, 100)               409700    \n",
            "_________________________________________________________________\n",
            "dropout_1 (Dropout)          (None, 100)               0         \n",
            "_________________________________________________________________\n",
            "dense_5 (Dense)              (None, 10)                1010      \n",
            "=================================================================\n",
            "Total params: 430,102\n",
            "Trainable params: 430,102\n",
            "Non-trainable params: 0\n",
            "_________________________________________________________________\n"
          ],
          "name": "stdout"
        }
      ]
    },
    {
      "cell_type": "markdown",
      "metadata": {
        "id": "DmiseomIwQ1v"
      },
      "source": [
        "# Model with Batch Normalization"
      ]
    },
    {
      "cell_type": "code",
      "metadata": {
        "id": "Xr_b64Eyqvci",
        "trusted": false
      },
      "source": [
        "(x_train, y_train), (x_test, y_test) = tf.keras.datasets.cifar10.load_data()"
      ],
      "execution_count": 64,
      "outputs": []
    },
    {
      "cell_type": "code",
      "metadata": {
        "id": "4NohT_pb5l6J",
        "trusted": false
      },
      "source": [
        "x_train, x_test = x_train / 255.0, x_test / 255.0"
      ],
      "execution_count": 65,
      "outputs": []
    },
    {
      "cell_type": "code",
      "metadata": {
        "id": "kbMdIb48wb6k",
        "trusted": false
      },
      "source": [
        "model = tf.keras.Sequential(\n",
        "    [\n",
        "    tf.keras.layers.Conv2D(32, (3,3), padding='same', activation=\"relu\",input_shape=(32, 32, 3)),\n",
        "    tf.keras.layers.MaxPooling2D((2, 2), strides=2),\n",
        "     \n",
        "    tf.keras.layers.Conv2D(64, (3,3), padding='same', activation=\"relu\"),\n",
        "    tf.keras.layers.MaxPooling2D((2, 2), strides=2),\n",
        "     \n",
        "    tf.keras.layers.Flatten(),\n",
        "    tf.keras.layers.Dense(100, activation=\"relu\"),\n",
        "    tf.keras.layers.BatchNormalization(),\n",
        "    tf.keras.layers.Dense(10, activation=\"softmax\")\n",
        "]\n",
        ")"
      ],
      "execution_count": 66,
      "outputs": []
    },
    {
      "cell_type": "code",
      "metadata": {
        "id": "pFF0AxHYw7XA",
        "trusted": false
      },
      "source": [
        "model.compile(optimizer='adam',\n",
        "              loss=tf.keras.losses.SparseCategoricalCrossentropy(from_logits=True),\n",
        "              metrics=['accuracy'])"
      ],
      "execution_count": 67,
      "outputs": []
    },
    {
      "cell_type": "code",
      "metadata": {
        "id": "96JDffSdxHUl",
        "trusted": false,
        "colab": {
          "base_uri": "https://localhost:8080/"
        },
        "outputId": "20db8c91-57f4-4565-fb5a-3e76c05ed709"
      },
      "source": [
        "history = model.fit(x_train,y_train, epochs=15,validation_data=(x_test,y_test),\n",
        "                    callbacks=callbacks\n",
        "                    )"
      ],
      "execution_count": 68,
      "outputs": [
        {
          "output_type": "stream",
          "text": [
            "Epoch 1/15\n"
          ],
          "name": "stdout"
        },
        {
          "output_type": "stream",
          "text": [
            "/usr/local/lib/python3.7/dist-packages/tensorflow/python/keras/backend.py:4930: UserWarning: \"`sparse_categorical_crossentropy` received `from_logits=True`, but the `output` argument was produced by a sigmoid or softmax activation and thus does not represent logits. Was this intended?\"\n",
            "  '\"`sparse_categorical_crossentropy` received `from_logits=True`, but '\n"
          ],
          "name": "stderr"
        },
        {
          "output_type": "stream",
          "text": [
            "1563/1563 [==============================] - 12s 8ms/step - loss: 1.2051 - accuracy: 0.5809 - val_loss: 1.0632 - val_accuracy: 0.6390\n",
            "INFO:tensorflow:Assets written to: /tmp/checkpoint/assets\n",
            "Epoch 2/15\n",
            "1563/1563 [==============================] - 12s 7ms/step - loss: 0.9289 - accuracy: 0.6787 - val_loss: 1.0656 - val_accuracy: 0.6340\n",
            "INFO:tensorflow:Assets written to: /tmp/checkpoint/assets\n",
            "Epoch 3/15\n",
            "1563/1563 [==============================] - 12s 7ms/step - loss: 0.8187 - accuracy: 0.7150 - val_loss: 1.1105 - val_accuracy: 0.6359\n",
            "INFO:tensorflow:Assets written to: /tmp/checkpoint/assets\n",
            "Epoch 4/15\n",
            "1563/1563 [==============================] - 12s 7ms/step - loss: 0.7418 - accuracy: 0.7419 - val_loss: 1.3237 - val_accuracy: 0.5784\n",
            "INFO:tensorflow:Assets written to: /tmp/checkpoint/assets\n",
            "Epoch 5/15\n",
            "1563/1563 [==============================] - 12s 7ms/step - loss: 0.6817 - accuracy: 0.7617 - val_loss: 0.9176 - val_accuracy: 0.6935\n",
            "INFO:tensorflow:Assets written to: /tmp/checkpoint/assets\n",
            "Epoch 6/15\n",
            "1563/1563 [==============================] - 12s 7ms/step - loss: 0.6287 - accuracy: 0.7783 - val_loss: 0.9231 - val_accuracy: 0.6896\n",
            "INFO:tensorflow:Assets written to: /tmp/checkpoint/assets\n",
            "Epoch 7/15\n",
            "1563/1563 [==============================] - 12s 8ms/step - loss: 0.5832 - accuracy: 0.7961 - val_loss: 0.9018 - val_accuracy: 0.7043\n",
            "INFO:tensorflow:Assets written to: /tmp/checkpoint/assets\n",
            "Epoch 8/15\n",
            "1563/1563 [==============================] - 11s 7ms/step - loss: 0.5382 - accuracy: 0.8105 - val_loss: 0.8729 - val_accuracy: 0.7115\n",
            "INFO:tensorflow:Assets written to: /tmp/checkpoint/assets\n",
            "Epoch 9/15\n",
            "1563/1563 [==============================] - 12s 7ms/step - loss: 0.5045 - accuracy: 0.8224 - val_loss: 0.9775 - val_accuracy: 0.6983\n",
            "INFO:tensorflow:Assets written to: /tmp/checkpoint/assets\n",
            "Epoch 10/15\n",
            "1563/1563 [==============================] - 12s 8ms/step - loss: 0.4705 - accuracy: 0.8342 - val_loss: 1.1019 - val_accuracy: 0.6738\n",
            "INFO:tensorflow:Assets written to: /tmp/checkpoint/assets\n",
            "Epoch 11/15\n",
            "1563/1563 [==============================] - 12s 7ms/step - loss: 0.4401 - accuracy: 0.8452 - val_loss: 0.9709 - val_accuracy: 0.7077\n",
            "INFO:tensorflow:Assets written to: /tmp/checkpoint/assets\n",
            "Epoch 12/15\n",
            "1563/1563 [==============================] - 12s 7ms/step - loss: 0.4089 - accuracy: 0.8579 - val_loss: 0.9720 - val_accuracy: 0.7122\n",
            "INFO:tensorflow:Assets written to: /tmp/checkpoint/assets\n",
            "Epoch 13/15\n",
            "1563/1563 [==============================] - 12s 7ms/step - loss: 0.3862 - accuracy: 0.8637 - val_loss: 1.0236 - val_accuracy: 0.7070\n",
            "INFO:tensorflow:Assets written to: /tmp/checkpoint/assets\n",
            "Epoch 14/15\n",
            "1563/1563 [==============================] - 12s 7ms/step - loss: 0.3649 - accuracy: 0.8706 - val_loss: 1.1654 - val_accuracy: 0.6785\n",
            "INFO:tensorflow:Assets written to: /tmp/checkpoint/assets\n",
            "Epoch 15/15\n",
            "1563/1563 [==============================] - 12s 7ms/step - loss: 0.3398 - accuracy: 0.8782 - val_loss: 1.0942 - val_accuracy: 0.7022\n",
            "INFO:tensorflow:Assets written to: /tmp/checkpoint/assets\n"
          ],
          "name": "stdout"
        }
      ]
    },
    {
      "cell_type": "code",
      "metadata": {
        "id": "B76oqeu5xNLB",
        "trusted": false,
        "colab": {
          "base_uri": "https://localhost:8080/"
        },
        "outputId": "9b231843-1501-4d49-f316-a08aa990f301"
      },
      "source": [
        "loss, accuracy = model.evaluate(x_test,y_test)\n",
        "print('Accuracy on test dataset:', accuracy)"
      ],
      "execution_count": 69,
      "outputs": [
        {
          "output_type": "stream",
          "text": [
            "313/313 [==============================] - 1s 4ms/step - loss: 1.0942 - accuracy: 0.7022\n",
            "Accuracy on test dataset: 0.7021999955177307\n"
          ],
          "name": "stdout"
        }
      ]
    },
    {
      "cell_type": "markdown",
      "metadata": {
        "id": "XYn7v0Vg6bfi"
      },
      "source": [
        "# Running CNN on TensorFlow in the real world"
      ]
    },
    {
      "cell_type": "code",
      "metadata": {
        "id": "38axxEr_6bIe",
        "trusted": true,
        "colab": {
          "base_uri": "https://localhost:8080/"
        },
        "outputId": "dcb24da1-2e87-492b-fa97-1852c44ad515"
      },
      "source": [
        " !wget --no-check-certificate \\\n",
        "    https://namespace.co.ke/ml/dataset.zip \\\n",
        "    -O /tmp/catsdogs.zip"
      ],
      "execution_count": 70,
      "outputs": [
        {
          "output_type": "stream",
          "text": [
            "--2021-08-05 12:25:16--  https://namespace.co.ke/ml/dataset.zip\n",
            "Resolving namespace.co.ke (namespace.co.ke)... 109.106.250.14\n",
            "Connecting to namespace.co.ke (namespace.co.ke)|109.106.250.14|:443... connected.\n",
            "HTTP request sent, awaiting response... 200 OK\n",
            "Length: 228894139 (218M) [application/zip]\n",
            "Saving to: ‘/tmp/catsdogs.zip’\n",
            "\n",
            "/tmp/catsdogs.zip   100%[===================>] 218.29M  2.80MB/s    in 81s     \n",
            "\n",
            "2021-08-05 12:26:39 (2.68 MB/s) - ‘/tmp/catsdogs.zip’ saved [228894139/228894139]\n",
            "\n"
          ],
          "name": "stdout"
        }
      ]
    },
    {
      "cell_type": "code",
      "metadata": {
        "trusted": true,
        "id": "QX3PL3BhkUL8"
      },
      "source": [
        "import os\n",
        "import zipfile\n"
      ],
      "execution_count": 71,
      "outputs": []
    },
    {
      "cell_type": "code",
      "metadata": {
        "id": "RkyNoKb0-vhY",
        "trusted": true
      },
      "source": [
        "with zipfile.ZipFile('/tmp/catsdogs.zip', 'r') as zip_ref:\n",
        "    zip_ref.extractall('/tmp/cats_dogs')"
      ],
      "execution_count": 72,
      "outputs": []
    },
    {
      "cell_type": "code",
      "metadata": {
        "trusted": true,
        "id": "H7X31ctskUL9"
      },
      "source": [
        "base_dir = '/tmp/cats_dogs/dataset'\n",
        "train_dir = os.path.join(base_dir, 'training_set')\n",
        "test_dir = os.path.join(base_dir, 'test_set')\n"
      ],
      "execution_count": 73,
      "outputs": []
    },
    {
      "cell_type": "code",
      "metadata": {
        "id": "8jnLVowU3YEA",
        "trusted": true,
        "colab": {
          "base_uri": "https://localhost:8080/"
        },
        "outputId": "bd46e196-1ef8-400b-9a7f-a44281670cfe"
      },
      "source": [
        "import os\n",
        "os.listdir(base_dir)"
      ],
      "execution_count": 74,
      "outputs": [
        {
          "output_type": "execute_result",
          "data": {
            "text/plain": [
              "['test_set', 'single_prediction', 'training_set', '.DS_Store']"
            ]
          },
          "metadata": {
            "tags": []
          },
          "execution_count": 74
        }
      ]
    },
    {
      "cell_type": "code",
      "metadata": {
        "id": "s1uxKSZX_QFZ",
        "trusted": true,
        "colab": {
          "base_uri": "https://localhost:8080/"
        },
        "outputId": "e6c2006f-a683-4c97-97c1-9fc8cb1d1a00"
      },
      "source": [
        "training_set = tf.keras.preprocessing.image_dataset_from_directory(\n",
        "  train_dir,\n",
        "  seed=101,\n",
        "  label_mode=\"binary\",\n",
        "  image_size=(200, 200),\n",
        "  batch_size=32)"
      ],
      "execution_count": 75,
      "outputs": [
        {
          "output_type": "stream",
          "text": [
            "Found 8000 files belonging to 2 classes.\n"
          ],
          "name": "stdout"
        }
      ]
    },
    {
      "cell_type": "code",
      "metadata": {
        "id": "MGE0Y0BUoK3W"
      },
      "source": [
        "class_names = training_set.class_names\n"
      ],
      "execution_count": 76,
      "outputs": []
    },
    {
      "cell_type": "code",
      "metadata": {
        "colab": {
          "base_uri": "https://localhost:8080/"
        },
        "id": "x1rijvntoOJp",
        "outputId": "81708cf9-ed87-4d1d-a339-6737f6d6490f"
      },
      "source": [
        "class_names"
      ],
      "execution_count": 77,
      "outputs": [
        {
          "output_type": "execute_result",
          "data": {
            "text/plain": [
              "['cats', 'dogs']"
            ]
          },
          "metadata": {
            "tags": []
          },
          "execution_count": 77
        }
      ]
    },
    {
      "cell_type": "code",
      "metadata": {
        "id": "r9Vqxpr6AtEg",
        "trusted": true,
        "colab": {
          "base_uri": "https://localhost:8080/"
        },
        "outputId": "7afe76ea-027f-48f9-d7d1-87640edaf851"
      },
      "source": [
        "validation_set = tf.keras.preprocessing.image_dataset_from_directory(\n",
        "  test_dir,\n",
        "  seed=101,\n",
        "  image_size=(200, 200),\n",
        "  batch_size=32)"
      ],
      "execution_count": 78,
      "outputs": [
        {
          "output_type": "stream",
          "text": [
            "Found 2000 files belonging to 2 classes.\n"
          ],
          "name": "stdout"
        }
      ]
    },
    {
      "cell_type": "code",
      "metadata": {
        "id": "np7daTxP-28S",
        "trusted": true
      },
      "source": [
        "import tensorflow as tf\n",
        "from tensorflow import keras\n",
        "from tensorflow.keras import Sequential\n",
        "from tensorflow.keras.layers import Dense,Conv2D,MaxPooling2D,Flatten,Dropout\n",
        "from tensorflow.keras.preprocessing.image import ImageDataGenerator"
      ],
      "execution_count": 79,
      "outputs": []
    },
    {
      "cell_type": "code",
      "metadata": {
        "id": "W9EoqxMADgPN",
        "trusted": true
      },
      "source": [
        "data_augmentation = keras.Sequential(\n",
        "  [\n",
        "    tf.keras.layers.experimental.preprocessing.RandomFlip(\"horizontal\", \n",
        "                                                 input_shape=(200, \n",
        "                                                              200,\n",
        "                                                              3)),\n",
        "    tf.keras.layers.experimental.preprocessing.RandomRotation(0.2),\n",
        "    tf.keras.layers.experimental.preprocessing.RandomZoom(0.2),\n",
        "  ]\n",
        ")"
      ],
      "execution_count": 80,
      "outputs": []
    },
    {
      "cell_type": "code",
      "metadata": {
        "id": "t8773tXv_EYb",
        "trusted": true
      },
      "source": [
        "model = Sequential([\n",
        "    data_augmentation,\n",
        "    tf.keras.layers.experimental.preprocessing.Rescaling(1./255),             \n",
        "    Conv2D(filters=32,kernel_size=(3,3), activation='relu'),\n",
        "    MaxPooling2D(pool_size=(2,2)),\n",
        "\n",
        "    Conv2D(filters=32,kernel_size=(3,3), activation='relu'),\n",
        "    MaxPooling2D(pool_size=(2,2)),\n",
        "    Dropout(0.25),\n",
        "\n",
        "    Conv2D(filters=64,kernel_size=(3,3), activation='relu'),\n",
        "    MaxPooling2D(pool_size=(2,2)),\n",
        "    Dropout(0.25),\n",
        "\n",
        "    Flatten(),\n",
        "    Dense(128, activation='relu'),\n",
        "    Dropout(0.25),\n",
        "    Dense(1, activation='sigmoid')\n",
        "])"
      ],
      "execution_count": 81,
      "outputs": []
    },
    {
      "cell_type": "code",
      "metadata": {
        "id": "qJ-AOxgv_TKV",
        "trusted": true
      },
      "source": [
        "model.compile(optimizer='adam',\n",
        "              loss=keras.losses.BinaryCrossentropy(from_logits=True),\n",
        "              metrics=[keras.metrics.BinaryAccuracy()])"
      ],
      "execution_count": 82,
      "outputs": []
    },
    {
      "cell_type": "code",
      "metadata": {
        "id": "j8IpLDp_C3kM",
        "trusted": true,
        "colab": {
          "base_uri": "https://localhost:8080/"
        },
        "outputId": "35e9231c-4a5a-43cb-8b34-19432a07dc3d"
      },
      "source": [
        "history = model.fit(training_set,validation_data=validation_set, epochs=10,callbacks=callbacks)"
      ],
      "execution_count": null,
      "outputs": [
        {
          "output_type": "stream",
          "text": [
            "Epoch 1/10\n",
            "250/250 [==============================] - 31s 122ms/step - loss: 0.6402 - binary_accuracy: 0.6327 - val_loss: 0.5651 - val_binary_accuracy: 0.6980\n"
          ],
          "name": "stdout"
        }
      ]
    },
    {
      "cell_type": "code",
      "metadata": {
        "id": "DDGE1g6kDLdp",
        "trusted": true
      },
      "source": [
        "import pandas as pd\n",
        "\n",
        "metrics_df = pd.DataFrame(history.history)"
      ],
      "execution_count": null,
      "outputs": []
    },
    {
      "cell_type": "code",
      "metadata": {
        "collapsed": true,
        "id": "oUk7YOmS3LcD"
      },
      "source": [
        "loss, accuracy = model.evaluate(validation_set)\n",
        "print('Accuracy on test dataset:', accuracy)"
      ],
      "execution_count": null,
      "outputs": []
    },
    {
      "cell_type": "code",
      "metadata": {
        "id": "JscKzIu7DON_",
        "trusted": true
      },
      "source": [
        "metrics_df[[\"loss\",\"val_loss\"]].plot();"
      ],
      "execution_count": null,
      "outputs": []
    },
    {
      "cell_type": "code",
      "metadata": {
        "id": "jzzXGWh4DRbL",
        "trusted": true
      },
      "source": [
        "metrics_df[[\"binary_accuracy\",\"val_binary_accuracy\"]].plot();"
      ],
      "execution_count": null,
      "outputs": []
    },
    {
      "cell_type": "code",
      "metadata": {
        "id": "6u3Bge6J4QIo"
      },
      "source": [
        "loss, accuracy = model.evaluate(validation_set)\n",
        "print('Accuracy on test dataset:', accuracy)"
      ],
      "execution_count": null,
      "outputs": []
    },
    {
      "cell_type": "code",
      "metadata": {
        "trusted": true,
        "id": "jMHdRyPVkUMD"
      },
      "source": [
        "import numpy as np\n",
        "from keras.preprocessing import image"
      ],
      "execution_count": null,
      "outputs": []
    },
    {
      "cell_type": "code",
      "metadata": {
        "trusted": true,
        "id": "ptbYgX1okUMD"
      },
      "source": [
        "!wget --no-check-certificate \\\n",
        "    https://upload.wikimedia.org/wikipedia/commons/c/c7/Tabby_cat_with_blue_eyes-3336579.jpg \\\n",
        "    -O /tmp/cat.jpg"
      ],
      "execution_count": null,
      "outputs": []
    },
    {
      "cell_type": "code",
      "metadata": {
        "trusted": true,
        "id": "7-0Xc613kUME"
      },
      "source": [
        "test_image = image.load_img('/tmp/cat.jpg', target_size=(200, 200))\n"
      ],
      "execution_count": null,
      "outputs": []
    },
    {
      "cell_type": "code",
      "metadata": {
        "trusted": true,
        "id": "wmVRKWXKkUME"
      },
      "source": [
        "test_image = image.img_to_array(test_image)\n"
      ],
      "execution_count": null,
      "outputs": []
    },
    {
      "cell_type": "code",
      "metadata": {
        "trusted": true,
        "id": "GQQptLqKkUMF"
      },
      "source": [
        "test_image.shape"
      ],
      "execution_count": null,
      "outputs": []
    },
    {
      "cell_type": "code",
      "metadata": {
        "trusted": true,
        "id": "isLvoe3dkUMF"
      },
      "source": [
        "test_image = np.expand_dims(test_image, axis=0)\n"
      ],
      "execution_count": null,
      "outputs": []
    },
    {
      "cell_type": "code",
      "metadata": {
        "trusted": true,
        "id": "vag5bR-HkUMF"
      },
      "source": [
        "prediction = model.predict(test_image)\n"
      ],
      "execution_count": null,
      "outputs": []
    },
    {
      "cell_type": "code",
      "metadata": {
        "trusted": true,
        "id": "Tgj9BKmokUMG"
      },
      "source": [
        "prediction[0][0]"
      ],
      "execution_count": null,
      "outputs": []
    },
    {
      "cell_type": "code",
      "metadata": {
        "trusted": true,
        "id": "NU5JkIqQkUMG"
      },
      "source": [
        "if prediction[0][0]>0.5:\n",
        "  print(\" is a dog\")\n",
        "else:\n",
        "   print(\" is a cat\")"
      ],
      "execution_count": null,
      "outputs": []
    },
    {
      "cell_type": "code",
      "metadata": {
        "trusted": true,
        "id": "LfSSTjcekUMG"
      },
      "source": [
        "!wget --no-check-certificate \\\n",
        "    https://upload.wikimedia.org/wikipedia/commons/1/18/Dog_Breeds.jpg \\\n",
        "    -O /tmp/dog.jpg"
      ],
      "execution_count": null,
      "outputs": []
    },
    {
      "cell_type": "code",
      "metadata": {
        "trusted": true,
        "id": "S8gfwRBikUMH"
      },
      "source": [
        "test_image2 = image.load_img('/tmp/dog.jpg', target_size=(200, 200))\n"
      ],
      "execution_count": null,
      "outputs": []
    },
    {
      "cell_type": "code",
      "metadata": {
        "trusted": true,
        "id": "iD6CFB0akUMH"
      },
      "source": [
        "test_image2 = np.expand_dims(test_image2, axis=0)\n"
      ],
      "execution_count": null,
      "outputs": []
    },
    {
      "cell_type": "code",
      "metadata": {
        "trusted": true,
        "id": "QPC5WjXjkUMH"
      },
      "source": [
        "prediction = model.predict(test_image2)\n"
      ],
      "execution_count": null,
      "outputs": []
    },
    {
      "cell_type": "code",
      "metadata": {
        "trusted": true,
        "id": "LetjMNizkUMH"
      },
      "source": [
        "prediction[0][0]"
      ],
      "execution_count": null,
      "outputs": []
    },
    {
      "cell_type": "code",
      "metadata": {
        "trusted": true,
        "id": "YdlSckmGkUMI"
      },
      "source": [
        "if prediction[0][0]>0.5:\n",
        "  print(\" is a dog\")\n",
        "else:\n",
        "   print(\" is a cat\")"
      ],
      "execution_count": null,
      "outputs": []
    },
    {
      "cell_type": "markdown",
      "metadata": {
        "id": "PpvuckutDOvG"
      },
      "source": [
        "# Architectures"
      ]
    },
    {
      "cell_type": "markdown",
      "metadata": {
        "id": "tTHI5sLmDV2S"
      },
      "source": [
        "# Model without weights"
      ]
    },
    {
      "cell_type": "code",
      "metadata": {
        "id": "knXDlvOLDRlp"
      },
      "source": [
        "model = tf.keras.applications.Xception(\n",
        "    include_top=True,\n",
        "    input_tensor=None,\n",
        "    input_shape=None,\n",
        "    pooling=None,\n",
        "    classes=1000,\n",
        "    classifier_activation=\"softmax\",\n",
        ")"
      ],
      "execution_count": null,
      "outputs": []
    },
    {
      "cell_type": "code",
      "metadata": {
        "id": "xgL9MJPPDeDP"
      },
      "source": [
        "model.summary()"
      ],
      "execution_count": null,
      "outputs": []
    },
    {
      "cell_type": "markdown",
      "metadata": {
        "id": "4izeZjdSDlnJ"
      },
      "source": [
        "# Model with Weights"
      ]
    },
    {
      "cell_type": "code",
      "metadata": {
        "id": "2_X2vaKWDhRI"
      },
      "source": [
        "model = tf.keras.applications.Xception(\n",
        "    include_top=True,\n",
        "    weights=\"imagenet\",\n",
        "    input_tensor=None,\n",
        "    input_shape=None,\n",
        "    pooling=None,\n",
        "    classes=1000,\n",
        "    classifier_activation=\"softmax\",\n",
        ")"
      ],
      "execution_count": null,
      "outputs": []
    },
    {
      "cell_type": "code",
      "metadata": {
        "id": "bFg4ItR1Dpfr"
      },
      "source": [
        "from tensorflow.keras.preprocessing import image\n",
        "import numpy as np\n",
        "!wget --no-check-certificate \\\n",
        "    https://upload.wikimedia.org/wikipedia/commons/b/b5/Lion_d%27Afrique.jpg \\\n",
        "    -O /tmp/lion.jpg\n",
        "img_path = '/tmp/lion.jpg'\n",
        "img = image.load_img(img_path, target_size=(299, 299))\n",
        "x = image.img_to_array(img)\n",
        "x = np.expand_dims(x, axis=0)\n",
        "x = tf.keras.applications.xception.preprocess_input(x)\n",
        "\n",
        "preds = model.predict(x)\n",
        "# decode the results into a list of tuples (class, description, probability)\n",
        "# (one such list for each sample in the batch)\n",
        "print('Predicted:', tf.keras.applications.xception.decode_predictions(preds, top=3)[0])"
      ],
      "execution_count": null,
      "outputs": []
    },
    {
      "cell_type": "code",
      "metadata": {
        "id": "gE0EMuQgHx8s"
      },
      "source": [
        "x.shape"
      ],
      "execution_count": null,
      "outputs": []
    },
    {
      "cell_type": "code",
      "metadata": {
        "id": "oidmzv7UJt9M"
      },
      "source": [
        ""
      ],
      "execution_count": null,
      "outputs": []
    }
  ]
}